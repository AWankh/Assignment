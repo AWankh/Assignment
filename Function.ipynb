{
  "nbformat": 4,
  "nbformat_minor": 0,
  "metadata": {
    "colab": {
      "provenance": []
    },
    "kernelspec": {
      "name": "python3",
      "display_name": "Python 3"
    },
    "language_info": {
      "name": "python"
    }
  },
  "cells": [
    {
      "cell_type": "markdown",
      "source": [
        "1. Write a Python function that takes a list of numbers as input and returns the sum of all even numbers in\n",
        "the list."
      ],
      "metadata": {
        "id": "hF4AG9wBiq19"
      }
    },
    {
      "cell_type": "code",
      "source": [
        "def sum_even(numbers):\n",
        "    return sum(num for num in numbers if num % 2 == 0)\n",
        "\n",
        "print(\"1. Sum of Even Numbers:\", sum_even([1, 2, 3, 4, 5, 6]))\n",
        "\n",
        "\n"
      ],
      "metadata": {
        "colab": {
          "base_uri": "https://localhost:8080/"
        },
        "id": "gICPqGs3jGes",
        "outputId": "1148a2d0-31b9-424b-8ac9-a71a2ebe49ab"
      },
      "execution_count": 45,
      "outputs": [
        {
          "output_type": "stream",
          "name": "stdout",
          "text": [
            "1. Sum of Even Numbers: 12\n"
          ]
        }
      ]
    },
    {
      "cell_type": "markdown",
      "source": [
        "2. Create a Python function that accepts a string and returns the reverse of that string."
      ],
      "metadata": {
        "id": "LPmcyr5Vl5bF"
      }
    },
    {
      "cell_type": "code",
      "source": [
        "''' the slice statement [::-1] means start at the end of the string and end at position 0,\n",
        "move with the step -1, negative one, which means one step backwards.'''\n",
        "\n",
        "def reverse_string(s):\n",
        "    return s[::-1]\n",
        "\n",
        "print(\"2. Reversed String:\", reverse_string(\"Python\"))\n"
      ],
      "metadata": {
        "colab": {
          "base_uri": "https://localhost:8080/"
        },
        "id": "xP7P8hbqmGe7",
        "outputId": "040e3003-e03d-49b9-83c9-25bb56551ca1"
      },
      "execution_count": 49,
      "outputs": [
        {
          "output_type": "stream",
          "name": "stdout",
          "text": [
            "2. Reversed String: nohtyP\n"
          ]
        }
      ]
    },
    {
      "cell_type": "markdown",
      "source": [
        "3. Implement a Python function that takes a list of integers and returns a new list containing the squares of\n",
        "each number."
      ],
      "metadata": {
        "id": "eFTyfXv2tDxx"
      }
    },
    {
      "cell_type": "code",
      "source": [
        "def square_list(numbers):\n",
        "    return [num ** 2 for num in numbers]\n",
        "\n",
        "\n",
        "print(\"3. Squares:\", square_list([1, 2, 3, 4]))"
      ],
      "metadata": {
        "colab": {
          "base_uri": "https://localhost:8080/"
        },
        "id": "tlLgcIP88mWi",
        "outputId": "8a20e631-387d-42bb-eb08-0ee37ca58178"
      },
      "execution_count": 55,
      "outputs": [
        {
          "output_type": "stream",
          "name": "stdout",
          "text": [
            "3. Squares: [1, 4, 9, 16]\n"
          ]
        }
      ]
    },
    {
      "cell_type": "markdown",
      "source": [
        "4. Write a Python function that checks if a given number is prime or not from 1 to 200."
      ],
      "metadata": {
        "id": "_clXlH8BHhlN"
      }
    },
    {
      "cell_type": "code",
      "source": [
        "is_prime = lambda n: n > 1 and all(n % i for i in range(2, int(n**0.5) + 1))\n",
        "print(\"4.Primes from1 to 200:\",[n for n in range(1, 201) if is_prime(n)])\n"
      ],
      "metadata": {
        "colab": {
          "base_uri": "https://localhost:8080/"
        },
        "id": "pgYHdTU7z7D1",
        "outputId": "e9382b0c-2c2a-42c3-8caa-ac5ebf51d66f"
      },
      "execution_count": 56,
      "outputs": [
        {
          "output_type": "stream",
          "name": "stdout",
          "text": [
            "4.Primes from1 to 200: [2, 3, 5, 7, 11, 13, 17, 19, 23, 29, 31, 37, 41, 43, 47, 53, 59, 61, 67, 71, 73, 79, 83, 89, 97, 101, 103, 107, 109, 113, 127, 131, 137, 139, 149, 151, 157, 163, 167, 173, 179, 181, 191, 193, 197, 199]\n"
          ]
        }
      ]
    },
    {
      "cell_type": "markdown",
      "source": [
        "5. Create an iterator class in Python that generates the Fibonacci sequence up to a specified number of terms."
      ],
      "metadata": {
        "id": "Je8iZxhv2_09"
      }
    },
    {
      "cell_type": "code",
      "source": [
        "class Fibonacci:\n",
        "    def __init__(self, terms):\n",
        "        self.terms = terms\n",
        "        self.a, self.b = 0, 1\n",
        "        self.count = 0\n",
        "\n",
        "    def __iter__(self):\n",
        "        return self\n",
        "\n",
        "    def __next__(self):\n",
        "        if self.count >= self.terms:\n",
        "            raise StopIteration\n",
        "        val = self.a\n",
        "        self.a, self.b = self.b, self.a + self.b\n",
        "        self.count += 1\n",
        "        return val\n",
        "\n",
        "print(\"5. Fibonacci Sequence:\")\n",
        "for num in Fibonacci(10):\n",
        "    print(num, end=\" \")\n",
        "print()\n"
      ],
      "metadata": {
        "colab": {
          "base_uri": "https://localhost:8080/"
        },
        "id": "Q7IpPqcf3H8k",
        "outputId": "77bfc428-b40d-4240-9aa3-0ff038915d54"
      },
      "execution_count": 38,
      "outputs": [
        {
          "output_type": "stream",
          "name": "stdout",
          "text": [
            "5. Fibonacci Sequence:\n",
            "0 1 1 2 3 5 8 13 21 34 \n"
          ]
        }
      ]
    },
    {
      "cell_type": "markdown",
      "source": [
        "6. Write a generator function in Python that yields the powers of 2 up to a given exponent."
      ],
      "metadata": {
        "id": "kXuglUqp7D9_"
      }
    },
    {
      "cell_type": "code",
      "source": [
        "def power_generator(base, exponent):\n",
        "    result = 1\n",
        "    for i in range(exponent + 1):\n",
        "        yield result\n",
        "        result *= base\n",
        "\n",
        "# Accept input from the user\n",
        "base = int(\"2\")\n",
        "exponent = int(input(\"6.Input the exponent: \"))\n",
        "\n",
        "# Create the generator object\n",
        "power_gen = power_generator(base, exponent)\n",
        "\n",
        "# Generate and print the powers\n",
        "print(f\"Powers of {base} up to exponent {exponent}:\")\n",
        "for power in power_gen:\n",
        "    print(power)\n"
      ],
      "metadata": {
        "colab": {
          "base_uri": "https://localhost:8080/"
        },
        "id": "k0pq3Zmr8cWq",
        "outputId": "afb0265b-dafd-460a-b356-7ea0aa0cc9dd"
      },
      "execution_count": 29,
      "outputs": [
        {
          "output_type": "stream",
          "name": "stdout",
          "text": [
            "6.Input the exponent: 3\n",
            "Powers of 2 up to exponent 3:\n",
            "1\n",
            "2\n",
            "4\n",
            "8\n"
          ]
        }
      ]
    },
    {
      "cell_type": "markdown",
      "source": [
        "7. Implement a generator function that reads a file line by line and yields each line as a string."
      ],
      "metadata": {
        "id": "5z5s3eCAnesG"
      }
    },
    {
      "cell_type": "code",
      "source": [
        "def read_file_lines(filename):\n",
        "    with open(filename, 'r') as file:\n",
        "        for line in file:\n",
        "            yield line.strip()\n",
        "\n",
        "print(\"7. File Lines:\")\n",
        "with open(\"sample.txt\", \"w\") as f:\n",
        "    f.write(\"Hello\\nWorld\\nPython\\n\")\n",
        "\n",
        "for line in read_file_lines(\"sample.txt\"):\n",
        "    print(line)\n",
        "\n"
      ],
      "metadata": {
        "colab": {
          "base_uri": "https://localhost:8080/"
        },
        "id": "m0ZXKFMFoqg4",
        "outputId": "298b8e9b-c1bf-4797-e200-a13052cb998a"
      },
      "execution_count": 25,
      "outputs": [
        {
          "output_type": "stream",
          "name": "stdout",
          "text": [
            "7. File Lines:\n",
            "Hello\n",
            "World\n",
            "Python\n"
          ]
        }
      ]
    },
    {
      "cell_type": "markdown",
      "source": [
        "8. Use a lambda function in Python to sort a list of tuples based on the second element of each tuple."
      ],
      "metadata": {
        "id": "8LPVAHJnyOPQ"
      }
    },
    {
      "cell_type": "code",
      "source": [
        "tuples = [(3, 'c'), (1, 'b'), (2, 'a')]\n",
        "sorted_tuples = sorted(tuples, key=lambda x: x[1])\n",
        "print(\"8. Sorted Tuples:\", sorted_tuples)"
      ],
      "metadata": {
        "colab": {
          "base_uri": "https://localhost:8080/"
        },
        "id": "9oPBf3dqyUFP",
        "outputId": "62671270-7c3d-4ce7-d652-be41efa40e13"
      },
      "execution_count": 39,
      "outputs": [
        {
          "output_type": "stream",
          "name": "stdout",
          "text": [
            "8. Sorted Tuples: [(2, 'a'), (1, 'b'), (3, 'c')]\n"
          ]
        }
      ]
    },
    {
      "cell_type": "markdown",
      "source": [
        "9. Write a Python program that uses map() to convert a list of temperatures from Celsius to Fahrenheit"
      ],
      "metadata": {
        "id": "qtGyhdKlzGQq"
      }
    },
    {
      "cell_type": "code",
      "source": [
        "celsius = [0, 20, 37, 100]\n",
        "fahrenheit = list(map(lambda c: (c * 9/5) + 32, celsius))\n",
        "print(\"9. Temperatures in Fahrenheit:\", fahrenheit)"
      ],
      "metadata": {
        "colab": {
          "base_uri": "https://localhost:8080/"
        },
        "id": "l6Fi-PUqzMJO",
        "outputId": "29028a49-ef3a-4cde-9cbe-47e43ee562c7"
      },
      "execution_count": 40,
      "outputs": [
        {
          "output_type": "stream",
          "name": "stdout",
          "text": [
            "9. Temperatures in Fahrenheit: [32.0, 68.0, 98.6, 212.0]\n"
          ]
        }
      ]
    },
    {
      "cell_type": "markdown",
      "source": [
        "10. Remove Vowels using filter"
      ],
      "metadata": {
        "id": "DN07HXQEzf3a"
      }
    },
    {
      "cell_type": "code",
      "source": [
        "def remove_vowels(text):\n",
        "    return ''.join(filter(lambda c: c.lower() not in 'aeiou', text))\n",
        "\n",
        "print(\"10. String without vowels:\", remove_vowels(\"Beautiful day in Pune\"))"
      ],
      "metadata": {
        "colab": {
          "base_uri": "https://localhost:8080/"
        },
        "id": "iRdWUFM0z1a6",
        "outputId": "26839ac8-2499-43a7-c039-bfa80db1bfb5"
      },
      "execution_count": 41,
      "outputs": [
        {
          "output_type": "stream",
          "name": "stdout",
          "text": [
            "10. String without vowels: Btfl dy n Pn\n"
          ]
        }
      ]
    },
    {
      "cell_type": "markdown",
      "source": [
        "11. Imagine an accounting routine used in a book shop. It works on a list with sublists, which look like this:\n",
        "\n",
        "Write a Python program, which returns a list with 2-tuples. Each tuple consists of the order number and the product of the price per item and the quantity. The product should be increased by 10,- € if the value of the order is smaller than 100,00 €.\n",
        "\n",
        "Write a Python program using lambda and map"
      ],
      "metadata": {
        "id": "IgpXBfVIz-Mf"
      }
    },
    {
      "cell_type": "code",
      "source": [
        "# Data: [Order Number, Book Title, Quantity]\n",
        "orders = [\n",
        "    [34587, \"Learning Python, Mark Lutz\", 4],\n",
        "    [98762, \"Programming Python, Mark Lutz\", 5],\n",
        "    [77226, \"Head First Python, Paul Barry\", 3],\n",
        "    [88112, \"Einfuhrung in Python3, Bernd Klein\", 3]\n",
        "]\n",
        "\n",
        "# Corresponding price per item list\n",
        "prices = [40.95, 56.80, 32.95, 24.99]\n",
        "\n",
        "# Combine data and calculate\n",
        "invoices = list(map(\n",
        "    lambda x: (x[0], round(x[2] * prices[orders.index(x)] + 10 if x[2] * prices[orders.index(x)] < 100 else x[2] * prices[orders.index(x)], 2)),\n",
        "    orders\n",
        "))\n",
        "\n",
        "# Display output\n",
        "print(\"11.Invoice Summary:\")\n",
        "for invoice in invoices:\n",
        "    print(invoice)\n",
        "\n"
      ],
      "metadata": {
        "colab": {
          "base_uri": "https://localhost:8080/"
        },
        "id": "TLFYSkUZ0ARG",
        "outputId": "2ecaa840-5b81-4b48-9f38-d9fc05525195"
      },
      "execution_count": 44,
      "outputs": [
        {
          "output_type": "stream",
          "name": "stdout",
          "text": [
            "11.Invoice Summary:\n",
            "(34587, 163.8)\n",
            "(98762, 284.0)\n",
            "(77226, 108.85)\n",
            "(88112, 84.97)\n"
          ]
        }
      ]
    }
  ]
}